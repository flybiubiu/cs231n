{
  "nbformat": 4,
  "nbformat_minor": 0,
  "metadata": {
    "colab": {
      "name": "softmax.ipynb",
      "provenance": [],
      "collapsed_sections": [],
      "include_colab_link": true
    },
    "kernelspec": {
      "name": "python3",
      "display_name": "Python 3"
    },
    "accelerator": "GPU"
  },
  "cells": [
    {
      "cell_type": "markdown",
      "metadata": {
        "id": "view-in-github",
        "colab_type": "text"
      },
      "source": [
        "<a href=\"https://colab.research.google.com/github/flybiubiu/cs231n/blob/master/softmax.ipynb\" target=\"_parent\"><img src=\"https://colab.research.google.com/assets/colab-badge.svg\" alt=\"Open In Colab\"/></a>"
      ]
    },
    {
      "cell_type": "code",
      "metadata": {
        "id": "_8MfSSxf_-uS",
        "colab_type": "code",
        "outputId": "873fc6e6-ad44-4d1b-976e-dc097521e327",
        "colab": {
          "base_uri": "https://localhost:8080/",
          "height": 561
        }
      },
      "source": [
        "!git clone https://github.com/nholmber/google-colab-cs231n.git\n",
        "%cd google-colab-cs231n/assignment1\n",
        "!pip install imageio\n",
        "%cd cs231n/datasets/\n",
        "!/content/google-colab-cs231n/assignment1/cs231n/datasets/get_datasets.sh\n",
        "%cd '/content/google-colab-cs231n/assignment1'"
      ],
      "execution_count": 4,
      "outputs": [
        {
          "output_type": "stream",
          "text": [
            "Cloning into 'google-colab-cs231n'...\n",
            "remote: Enumerating objects: 109, done.\u001b[K\n",
            "remote: Total 109 (delta 0), reused 0 (delta 0), pack-reused 109\u001b[K\n",
            "Receiving objects: 100% (109/109), 5.07 MiB | 7.30 MiB/s, done.\n",
            "Resolving deltas: 100% (54/54), done.\n",
            "/content/google-colab-cs231n/assignment1\n",
            "Requirement already satisfied: imageio in /usr/local/lib/python3.6/dist-packages (2.4.1)\n",
            "Requirement already satisfied: numpy in /usr/local/lib/python3.6/dist-packages (from imageio) (1.17.4)\n",
            "Requirement already satisfied: pillow in /usr/local/lib/python3.6/dist-packages (from imageio) (4.3.0)\n",
            "Requirement already satisfied: olefile in /usr/local/lib/python3.6/dist-packages (from pillow->imageio) (0.46)\n",
            "/content/google-colab-cs231n/assignment1/cs231n/datasets\n",
            "--2019-11-18 13:07:06--  http://www.cs.toronto.edu/~kriz/cifar-10-python.tar.gz\n",
            "Resolving www.cs.toronto.edu (www.cs.toronto.edu)... 128.100.3.30\n",
            "Connecting to www.cs.toronto.edu (www.cs.toronto.edu)|128.100.3.30|:80... connected.\n",
            "HTTP request sent, awaiting response... 200 OK\n",
            "Length: 170498071 (163M) [application/x-gzip]\n",
            "Saving to: ‘cifar-10-python.tar.gz’\n",
            "\n",
            "cifar-10-python.tar 100%[===================>] 162.60M  31.1MB/s    in 5.8s    \n",
            "\n",
            "2019-11-18 13:07:12 (28.1 MB/s) - ‘cifar-10-python.tar.gz’ saved [170498071/170498071]\n",
            "\n",
            "cifar-10-batches-py/\n",
            "cifar-10-batches-py/data_batch_4\n",
            "cifar-10-batches-py/readme.html\n",
            "cifar-10-batches-py/test_batch\n",
            "cifar-10-batches-py/data_batch_3\n",
            "cifar-10-batches-py/batches.meta\n",
            "cifar-10-batches-py/data_batch_2\n",
            "cifar-10-batches-py/data_batch_5\n",
            "cifar-10-batches-py/data_batch_1\n",
            "/content/google-colab-cs231n/assignment1\n"
          ],
          "name": "stdout"
        }
      ]
    },
    {
      "cell_type": "code",
      "metadata": {
        "id": "Cbq63PlqAWT9",
        "colab_type": "code",
        "colab": {}
      },
      "source": [
        "import random\n",
        "import numpy as np\n",
        "from cs231n.data_utils import load_CIFAR10\n",
        "import matplotlib.pyplot as plt\n",
        "%matplotlib inline\n",
        "plt.rcParams['figure.figsize'] = (10.0, 8.0)\n",
        "plt.rcParams['image.interpolation'] = 'nearest'\n",
        "plt.rcParams['image.cmap'] = 'gray'\n",
        "%load_ext autoreload\n",
        "%autoreload 2"
      ],
      "execution_count": 0,
      "outputs": []
    },
    {
      "cell_type": "code",
      "metadata": {
        "id": "moVpxyOpVFeX",
        "colab_type": "code",
        "colab": {}
      },
      "source": [
        "def get_CIFAR10_data(num_training=49000, num_validation=1000, num_test=1000, num_dev=500):\n",
        "  cifar10_dir = 'cs231n/datasets/cifar-10-batches-py'\n",
        "  X_train, y_train, X_test, y_test = load_CIFAR10(cifar10_dir)\n",
        "  mask = range(num_training, num_training + num_validation)\n",
        "  X_val = X_train[mask]\n",
        "  y_val = y_train[mask]\n",
        "  mask = range(num_training)\n",
        "  X_train = X_train[mask]\n",
        "  y_train = y_train[mask]\n",
        "  mask = range(num_test)\n",
        "  X_test = X_test[mask]\n",
        "  y_test = y_test[mask]\n",
        "  mask = np.random.choice(num_training, num_dev, replace = False)\n",
        "  X_dev = X_train[mask]\n",
        "  y_dev = y_train[mask]\n",
        "  X_train = np.reshape(X_train, (X_train.shape[0], -1))\n",
        "  X_val = np.reshape(X_val, (X_val.shape[0], -1))\n",
        "  X_test = np.reshape(X_test, (X_test.shape[0], -1))\n",
        "  X_dev = np.reshape(X_dev, (X_dev.shape[0], -1))\n",
        "\n",
        "  mean_image = np.mean(X_train, axis = 0)\n",
        "  X_train -= mean_image\n",
        "  X_val -= mean_image\n",
        "  X_test -= mean_image\n",
        "  X_dev -= mean_image\n",
        "\n",
        "  X_train = np.hstack([X_train, np.ones((X_train.shape[0], 1))])\n",
        "  X_val = np.hstack([X_val, np.ones((X_val.shape[0], 1))])\n",
        "  X_test = np.hstack([X_test, np.ones((X_test.shape[0], 1))])\n",
        "  X_dev = np.hstack([X_dev, np.ones((X_dev.shape[0], 1))])\n",
        "  \n",
        "  return X_train, y_train, X_val, y_val, X_test, y_test, X_dev, y_dev"
      ],
      "execution_count": 0,
      "outputs": []
    },
    {
      "cell_type": "code",
      "metadata": {
        "id": "FBof7Yo7qV7T",
        "colab_type": "code",
        "outputId": "48700c56-1c1b-400e-f1b4-b254cd3eedf4",
        "colab": {
          "base_uri": "https://localhost:8080/",
          "height": 153
        }
      },
      "source": [
        "X_train, y_train, X_val, y_val, X_test, y_test, X_dev, y_dev = get_CIFAR10_data()\n",
        "print ('Train data shape: ', X_train.shape)\n",
        "print ('Train labels shape: ', y_train.shape)\n",
        "print ('Validation data shape: ', X_val.shape)\n",
        "print ('Validation labels shape: ', y_val.shape)\n",
        "print ('Test data shape: ', X_test.shape)\n",
        "print ('Test labels shape: ', y_test.shape)\n",
        "print ('dev data shape: ', X_dev.shape)\n",
        "print ('dev labels shape: ', y_dev.shape)"
      ],
      "execution_count": 7,
      "outputs": [
        {
          "output_type": "stream",
          "text": [
            "Train data shape:  (49000, 3073)\n",
            "Train labels shape:  (49000,)\n",
            "Validation data shape:  (1000, 3073)\n",
            "Validation labels shape:  (1000,)\n",
            "Test data shape:  (1000, 3073)\n",
            "Test labels shape:  (1000,)\n",
            "dev data shape:  (500, 3073)\n",
            "dev labels shape:  (500,)\n"
          ],
          "name": "stdout"
        }
      ]
    },
    {
      "cell_type": "code",
      "metadata": {
        "id": "FtwBceBZqqUf",
        "colab_type": "code",
        "colab": {
          "base_uri": "https://localhost:8080/",
          "height": 51
        },
        "outputId": "df2e631b-871e-4227-a5ff-91ab4b532971"
      },
      "source": [
        "from cs231n.classifiers.softmax import softmax_loss_naive\n",
        "import time\n",
        "W = np.random.randn(3073, 10) * 0.0001\n",
        "loss, grad = softmax_loss_naive(W, X_dev, y_dev, 0.0)\n",
        "print ('loss: %f' % loss)\n",
        "print ('sanity check: %f' % (-np.log(0.1)))"
      ],
      "execution_count": 11,
      "outputs": [
        {
          "output_type": "stream",
          "text": [
            "loss: 2.370042\n",
            "sanity check: 2.302585\n"
          ],
          "name": "stdout"
        }
      ]
    },
    {
      "cell_type": "code",
      "metadata": {
        "id": "KUFFshzMqDK1",
        "colab_type": "code",
        "colab": {
          "base_uri": "https://localhost:8080/",
          "height": 357
        },
        "outputId": "7a360342-eed6-4322-df0a-720c34362a17"
      },
      "source": [
        "loss, grad = softmax_loss_naive(W, X_dev, y_dev, 0.0)\n",
        "from cs231n.gradient_check import grad_check_sparse\n",
        "f = lambda w:softmax_loss_naive(w, X_dev, y_dev, 0.0)[0]\n",
        "grad_numerical = grad_check_sparse(f, W, grad, 10)\n",
        "loss, grad = softmax_loss_naive(W, X_dev, y_dev, 1e2)\n",
        "f = lambda w:softmax_loss_naive(w, X_dev, y_dev, 1e2)[0]\n",
        "grad_numerical = grad_check_sparse(f, W, grad, 10)"
      ],
      "execution_count": 14,
      "outputs": [
        {
          "output_type": "stream",
          "text": [
            "numerical: -1.071176 analytic: -1.071176, relative error: 3.561998e-09\n",
            "numerical: 0.521847 analytic: 0.521847, relative error: 4.498267e-08\n",
            "numerical: 3.042251 analytic: 3.042251, relative error: 4.276982e-08\n",
            "numerical: -1.626411 analytic: -1.626411, relative error: 7.078199e-08\n",
            "numerical: 0.996490 analytic: 0.996490, relative error: 9.116305e-08\n",
            "numerical: -3.081723 analytic: -3.081723, relative error: 9.637506e-09\n",
            "numerical: 1.464373 analytic: 1.464372, relative error: 1.157633e-08\n",
            "numerical: 2.649159 analytic: 2.649159, relative error: 1.327390e-08\n",
            "numerical: -3.727438 analytic: -3.727438, relative error: 8.554566e-09\n",
            "numerical: -1.137318 analytic: -1.137318, relative error: 3.157709e-08\n",
            "numerical: -0.743844 analytic: -0.743844, relative error: 4.570900e-08\n",
            "numerical: 2.792790 analytic: 2.792790, relative error: 1.917657e-08\n",
            "numerical: 2.178340 analytic: 2.178340, relative error: 2.353768e-08\n",
            "numerical: -3.733203 analytic: -3.733203, relative error: 6.917617e-10\n",
            "numerical: -1.733877 analytic: -1.733877, relative error: 2.607448e-09\n",
            "numerical: 0.393454 analytic: 0.393453, relative error: 1.619232e-07\n",
            "numerical: -2.178472 analytic: -2.178472, relative error: 5.581414e-08\n",
            "numerical: 2.867215 analytic: 2.867215, relative error: 1.095998e-08\n",
            "numerical: 2.597856 analytic: 2.597856, relative error: 7.897968e-09\n",
            "numerical: -0.898699 analytic: -0.898699, relative error: 7.268584e-09\n"
          ],
          "name": "stdout"
        }
      ]
    },
    {
      "cell_type": "code",
      "metadata": {
        "id": "XDHQXVIPtq50",
        "colab_type": "code",
        "colab": {
          "base_uri": "https://localhost:8080/",
          "height": 51
        },
        "outputId": "64d96313-0a1e-44e4-e278-668f4363b0ca"
      },
      "source": [
        "tic = time.time()\n",
        "loss_naive, grad_naive = softmax_loss_naive(W, X_dev, y_dev, 0.00001)\n",
        "toc = time.time()\n",
        "print ('naive loss: %e computed in %f s' % (loss_naive, toc - tic))\n",
        "from cs231n.classifiers.softmax import softmax_loss_vectorized\n",
        "tic = time.time()\n",
        "loss_vectorized, grad_vectorized = softmax_loss_vectorized(W, X_dev, y_dev, 0.00001)\n",
        "toc = time.time()\n",
        "print ('vectorized loss: %e computed in %f s' % (loss_vectorized, toc - tic))"
      ],
      "execution_count": 17,
      "outputs": [
        {
          "output_type": "stream",
          "text": [
            "naive loss: 2.370042e+00 computed in 0.202183 s\n",
            "vectorized loss: 2.370042e+00 computed in 0.021293 s\n"
          ],
          "name": "stdout"
        }
      ]
    },
    {
      "cell_type": "code",
      "metadata": {
        "id": "FU0oaAc1ucNm",
        "colab_type": "code",
        "colab": {
          "base_uri": "https://localhost:8080/",
          "height": 1000
        },
        "outputId": "7da5bae4-d788-41d7-b276-d61b083e97ff"
      },
      "source": [
        "from cs231n.classifiers import Softmax\n",
        "results = {}\n",
        "best_val = -1\n",
        "best_softmax = None\n",
        "learning_rates = [1e-7, 5e-7]\n",
        "regularization_strengths = [5e4, 1e6]\n",
        "pass\n",
        "from cs231n.classifiers.linear_classifier import Softmax\n",
        "for lr in learning_rates:\n",
        "  for rs in regularization_strengths:\n",
        "    softmax = Softmax()\n",
        "    softmax.train(X_train, y_train, learning_rate = lr, reg = rs, num_iters = 1500, verbose = True)\n",
        "    y_pred_train = softmax.predict(X_train)\n",
        "    acc_train = np.mean(y_pred_train == y_train)\n",
        "    y_pred_val = softmax.predict(X_val)\n",
        "    acc_val = np.mean(y_pred_val == y_val)\n",
        "    results[(lr, rs)] = (acc_train, acc_val)\n",
        "\n",
        "\n",
        "    if acc_val > best_val:\n",
        "      best_val = acc_val\n",
        "      best_softmax = softmax\n",
        "\n",
        "for lr, reg in sorted(results):\n",
        "  train_accuracy, val_accuracy = results[(lr, reg)]\n",
        "  print ('lr %e reg %e train accuracy: %f val accuracy: %f' % (\n",
        "                lr, reg, train_accuracy, val_accuracy))\n",
        "print ('best validation accuracy achieved during cross-validation: %f' % best_val)"
      ],
      "execution_count": 23,
      "outputs": [
        {
          "output_type": "stream",
          "text": [
            "iteration 0 / 1500: loss 1538.303014\n",
            "iteration 100 / 1500: loss 206.855240\n",
            "iteration 200 / 1500: loss 29.523376\n",
            "iteration 300 / 1500: loss 5.799574\n",
            "iteration 400 / 1500: loss 2.626472\n",
            "iteration 500 / 1500: loss 2.184461\n",
            "iteration 600 / 1500: loss 2.102109\n",
            "iteration 700 / 1500: loss 2.104714\n",
            "iteration 800 / 1500: loss 2.081194\n",
            "iteration 900 / 1500: loss 2.145875\n",
            "iteration 1000 / 1500: loss 2.137854\n",
            "iteration 1100 / 1500: loss 2.184789\n",
            "iteration 1200 / 1500: loss 2.093404\n",
            "iteration 1300 / 1500: loss 2.099867\n",
            "iteration 1400 / 1500: loss 2.166226\n",
            "iteration 0 / 1500: loss 30644.937338\n",
            "iteration 100 / 1500: loss 2.283388\n",
            "iteration 200 / 1500: loss 2.281703\n",
            "iteration 300 / 1500: loss 2.287055\n",
            "iteration 400 / 1500: loss 2.283273\n",
            "iteration 500 / 1500: loss 2.287112\n",
            "iteration 600 / 1500: loss 2.286384\n",
            "iteration 700 / 1500: loss 2.274594\n",
            "iteration 800 / 1500: loss 2.285269\n",
            "iteration 900 / 1500: loss 2.283423\n",
            "iteration 1000 / 1500: loss 2.284579\n",
            "iteration 1100 / 1500: loss 2.286394\n",
            "iteration 1200 / 1500: loss 2.289067\n",
            "iteration 1300 / 1500: loss 2.290838\n",
            "iteration 1400 / 1500: loss 2.294462\n",
            "iteration 0 / 1500: loss 1560.454874\n",
            "iteration 100 / 1500: loss 2.233657\n",
            "iteration 200 / 1500: loss 2.121906\n",
            "iteration 300 / 1500: loss 2.169776\n",
            "iteration 400 / 1500: loss 2.183066\n",
            "iteration 500 / 1500: loss 2.136968\n",
            "iteration 600 / 1500: loss 2.152598\n",
            "iteration 700 / 1500: loss 2.163240\n",
            "iteration 800 / 1500: loss 2.165251\n",
            "iteration 900 / 1500: loss 2.181664\n",
            "iteration 1000 / 1500: loss 2.170059\n",
            "iteration 1100 / 1500: loss 2.141880\n",
            "iteration 1200 / 1500: loss 2.083581\n",
            "iteration 1300 / 1500: loss 2.182308\n",
            "iteration 1400 / 1500: loss 2.141116\n",
            "iteration 0 / 1500: loss 30933.043122\n",
            "iteration 100 / 1500: loss 2.295826\n",
            "iteration 200 / 1500: loss 2.296853\n",
            "iteration 300 / 1500: loss 2.298383\n",
            "iteration 400 / 1500: loss 2.305433\n",
            "iteration 500 / 1500: loss 2.293274\n",
            "iteration 600 / 1500: loss 2.301945\n",
            "iteration 700 / 1500: loss 2.308706\n",
            "iteration 800 / 1500: loss 2.298738\n",
            "iteration 900 / 1500: loss 2.295284\n",
            "iteration 1000 / 1500: loss 2.293266\n",
            "iteration 1100 / 1500: loss 2.301075\n",
            "iteration 1200 / 1500: loss 2.286098\n",
            "iteration 1300 / 1500: loss 2.283199\n",
            "iteration 1400 / 1500: loss 2.289922\n",
            "lr 1.000000e-07 reg 5.000000e+04 train accuracy: 0.310612 val accuracy: 0.323000\n",
            "lr 1.000000e-07 reg 1.000000e+06 train accuracy: 0.248429 val accuracy: 0.258000\n",
            "lr 5.000000e-07 reg 5.000000e+04 train accuracy: 0.300531 val accuracy: 0.313000\n",
            "lr 5.000000e-07 reg 1.000000e+06 train accuracy: 0.222776 val accuracy: 0.244000\n",
            "best validation accuracy achieved during cross-validation: 0.323000\n"
          ],
          "name": "stdout"
        }
      ]
    },
    {
      "cell_type": "code",
      "metadata": {
        "id": "LCueQPJ_00cy",
        "colab_type": "code",
        "colab": {
          "base_uri": "https://localhost:8080/",
          "height": 34
        },
        "outputId": "f02f371b-c255-4b7c-f598-1b14f65a31fd"
      },
      "source": [
        "y_test_pred = best_softmax.predict(X_test)\n",
        "test_accuracy = np.mean(y_test == y_test_pred)\n",
        "print ('softmax on raw pixels final test set accuracy: %f' % (test_accuracy))"
      ],
      "execution_count": 25,
      "outputs": [
        {
          "output_type": "stream",
          "text": [
            "softmax on raw pixels final test set accuracy: 0.313000\n"
          ],
          "name": "stdout"
        }
      ]
    },
    {
      "cell_type": "code",
      "metadata": {
        "id": "-WMRwDcG1Nu9",
        "colab_type": "code",
        "colab": {
          "base_uri": "https://localhost:8080/",
          "height": 380
        },
        "outputId": "df4eb367-08dd-489f-a039-580a0bb74f9f"
      },
      "source": [
        "w = best_softmax.W[:-1,:]\n",
        "w = w.reshape(32, 32, 3, 10)\n",
        "w_min, w_max = np.min(w), np.max(w)\n",
        "classes = ['plane', 'car', 'bird', 'cat', 'deer', 'dog', 'frog', 'horse', 'ship', 'truck']\n",
        "for i in range(10):\n",
        "  plt.subplot(2, 5, i + 1)\n",
        "  wimg = 255.0 * (w[:, :, :, i].squeeze() - w_min) / (w_max - w_min)\n",
        "  plt.imshow(wimg.astype('uint8'))\n",
        "  plt.axis('off')\n",
        "  plt.title(classes[i])"
      ],
      "execution_count": 27,
      "outputs": [
        {
          "output_type": "display_data",
          "data": {
            "image/png": "[encoded data removed]",
            "text/plain": [
              "<Figure size 720x576 with 10 Axes>"
            ]
          },
          "metadata": {
            "tags": []
          }
        }
      ]
    }
  ]
}