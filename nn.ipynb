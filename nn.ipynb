{
  "nbformat": 4,
  "nbformat_minor": 0,
  "metadata": {
    "colab": {
      "name": "nn.ipynb",
      "provenance": [],
      "collapsed_sections": [],
      "include_colab_link": true
    },
    "kernelspec": {
      "name": "python3",
      "display_name": "Python 3"
    },
    "accelerator": "GPU"
  },
  "cells": [
    {
      "cell_type": "markdown",
      "metadata": {
        "id": "view-in-github",
        "colab_type": "text"
      },
      "source": [
        "<a href=\"https://colab.research.google.com/github/flybiubiu/cs231n/blob/master/nn.ipynb\" target=\"_parent\"><img src=\"https://colab.research.google.com/assets/colab-badge.svg\" alt=\"Open In Colab\"/></a>"
      ]
    },
    {
      "cell_type": "code",
      "metadata": {
        "id": "UaLgOYmHoflM",
        "colab_type": "code",
        "outputId": "f4ab304a-78d7-496e-e580-4c9c362b93f8",
        "colab": {
          "base_uri": "https://localhost:8080/",
          "height": 561
        }
      },
      "source": [
        "!git clone https://github.com/nholmber/google-colab-cs231n.git\n",
        "%cd google-colab-cs231n/assignment1\n",
        "!pip install imageio\n",
        "%cd cs231n/datasets/\n",
        "!./get_datasets.sh\n",
        "%cd '/content/google-colab-cs231n/assignment1'"
      ],
      "execution_count": 0,
      "outputs": [
        {
          "output_type": "stream",
          "text": [
            "Cloning into 'google-colab-cs231n'...\n",
            "remote: Enumerating objects: 109, done.\u001b[K\n",
            "remote: Total 109 (delta 0), reused 0 (delta 0), pack-reused 109\u001b[K\n",
            "Receiving objects: 100% (109/109), 5.07 MiB | 7.85 MiB/s, done.\n",
            "Resolving deltas: 100% (54/54), done.\n",
            "/content/google-colab-cs231n/assignment1\n",
            "Requirement already satisfied: imageio in /usr/local/lib/python3.6/dist-packages (2.4.1)\n",
            "Requirement already satisfied: numpy in /usr/local/lib/python3.6/dist-packages (from imageio) (1.16.5)\n",
            "Requirement already satisfied: pillow in /usr/local/lib/python3.6/dist-packages (from imageio) (4.3.0)\n",
            "Requirement already satisfied: olefile in /usr/local/lib/python3.6/dist-packages (from pillow->imageio) (0.46)\n",
            "/content/google-colab-cs231n/assignment1/cs231n/datasets\n",
            "--2019-09-22 07:24:12--  http://www.cs.toronto.edu/~kriz/cifar-10-python.tar.gz\n",
            "Resolving www.cs.toronto.edu (www.cs.toronto.edu)... 128.100.3.30\n",
            "Connecting to www.cs.toronto.edu (www.cs.toronto.edu)|128.100.3.30|:80... connected.\n",
            "HTTP request sent, awaiting response... 200 OK\n",
            "Length: 170498071 (163M) [application/x-gzip]\n",
            "Saving to: ‘cifar-10-python.tar.gz’\n",
            "\n",
            "cifar-10-python.tar 100%[===================>] 162.60M  31.5MB/s    in 5.8s    \n",
            "\n",
            "2019-09-22 07:24:18 (28.2 MB/s) - ‘cifar-10-python.tar.gz’ saved [170498071/170498071]\n",
            "\n",
            "cifar-10-batches-py/\n",
            "cifar-10-batches-py/data_batch_4\n",
            "cifar-10-batches-py/readme.html\n",
            "cifar-10-batches-py/test_batch\n",
            "cifar-10-batches-py/data_batch_3\n",
            "cifar-10-batches-py/batches.meta\n",
            "cifar-10-batches-py/data_batch_2\n",
            "cifar-10-batches-py/data_batch_5\n",
            "cifar-10-batches-py/data_batch_1\n",
            "/content/google-colab-cs231n/assignment1\n"
          ],
          "name": "stdout"
        }
      ]
    },
    {
      "cell_type": "code",
      "metadata": {
        "id": "roSnbDzSo4iO",
        "colab_type": "code",
        "outputId": "02a4ca5f-8c20-487c-9ac9-67768c465907",
        "colab": {
          "base_uri": "https://localhost:8080/",
          "height": 85
        }
      },
      "source": [
        "import pandas as pd\n",
        "import numpy as np\n",
        "import matplotlib.pyplot as plt\n",
        "from keras.datasets import cifar10\n",
        "(Xtr, Ytr), (Xte, Yte) = cifar10.load_data()\n",
        "Xtr_rows = Xtr.reshape(Xtr.shape[0], 32 * 32 * 3)\n",
        "Xte_rows = Xte.reshape(Xte.shape[0], 32 * 32 * 3)\n",
        "import numpy as np\n",
        "class NearestNeighbor(object):\n",
        "  def __init__(self):\n",
        "    pass\n",
        "  def train(self, X, y):\n",
        "    self.Xtr = X\n",
        "    self.ytr = y\n",
        "  def predict(self, X):\n",
        "    num_test = X.shape[0]\n",
        "    Ypred = np.zeros(num_test, dtype = self.ytr.dtype)\n",
        "    for i in range(num_test):\n",
        "      distances = np.sum(np.abs(self.Xtr - X[i, :]), axis = 1)\n",
        "      min_index = np.argmin(distances)\n",
        "      Ypred[i] = self.ytr[min_index]\n",
        "    return Ypred\n",
        "nn = NearestNeighbor()\n",
        "nn.train(Xtr_rows, Ytr)\n",
        "Yte_predict = nn.predict(Xte_rows)\n",
        "print ('accuracy: %f' % ( np.mean(Yte_predict == Yte) ))"
      ],
      "execution_count": 1,
      "outputs": [
        {
          "output_type": "stream",
          "text": [
            "Using TensorFlow backend.\n"
          ],
          "name": "stderr"
        },
        {
          "output_type": "stream",
          "text": [
            "Downloading data from https://www.cs.toronto.edu/~kriz/cifar-10-python.tar.gz\n",
            "170500096/170498071 [==============================] - 11s 0us/step\n",
            "accuracy: 0.100000\n"
          ],
          "name": "stdout"
        }
      ]
    }
  ]
}