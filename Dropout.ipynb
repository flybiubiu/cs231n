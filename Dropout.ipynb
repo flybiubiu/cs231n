{
  "nbformat": 4,
  "nbformat_minor": 0,
  "metadata": {
    "colab": {
      "name": "Dropout.ipynb",
      "provenance": [],
      "collapsed_sections": [],
      "include_colab_link": true
    },
    "kernelspec": {
      "name": "python2",
      "display_name": "Python 2"
    },
    "accelerator": "GPU"
  },
  "cells": [
    {
      "cell_type": "markdown",
      "metadata": {
        "id": "view-in-github",
        "colab_type": "text"
      },
      "source": [
        "<a href=\"https://colab.research.google.com/github/flybiubiu/cs231n/blob/master/Dropout.ipynb\" target=\"_parent\"><img src=\"https://colab.research.google.com/assets/colab-badge.svg\" alt=\"Open In Colab\"/></a>"
      ]
    },
    {
      "cell_type": "code",
      "metadata": {
        "id": "0e-yITLq32Gi",
        "colab_type": "code",
        "colab": {
          "base_uri": "https://localhost:8080/",
          "height": 595
        },
        "outputId": "ec6b1a8b-d148-4d68-bac5-711d3c24e0f6"
      },
      "source": [
        "!git clone https://github.com/Halfish/cs231n.git\n",
        "%cd cs231n/assignment2\n",
        "!pip install imageio\n",
        "%cd cs231n/datasets/\n",
        "!/content/cs231n/assignment2/cs231n/datasets/get_datasets.sh\n",
        "%cd '/content/cs231n/assignment2'"
      ],
      "execution_count": 1,
      "outputs": [
        {
          "output_type": "stream",
          "text": [
            "Cloning into 'cs231n'...\n",
            "remote: Enumerating objects: 191, done.\u001b[K\n",
            "remote: Total 191 (delta 0), reused 0 (delta 0), pack-reused 191\u001b[K\n",
            "Receiving objects: 100% (191/191), 8.21 MiB | 3.17 MiB/s, done.\n",
            "Resolving deltas: 100% (66/66), done.\n",
            "/content/cs231n/assignment2\n",
            "Requirement already satisfied: imageio in /usr/local/lib/python2.7/dist-packages (2.4.1)\n",
            "Requirement already satisfied: futures in /usr/local/lib/python2.7/dist-packages (from imageio) (3.2.0)\n",
            "Requirement already satisfied: numpy in /usr/local/lib/python2.7/dist-packages (from imageio) (1.16.4)\n",
            "Requirement already satisfied: enum34 in /usr/local/lib/python2.7/dist-packages (from imageio) (1.1.6)\n",
            "Requirement already satisfied: pillow in /usr/local/lib/python2.7/dist-packages (from imageio) (4.3.0)\n",
            "Requirement already satisfied: olefile in /usr/local/lib/python2.7/dist-packages (from pillow->imageio) (0.46)\n",
            "/content/cs231n/assignment2/cs231n/datasets\n",
            "--2019-11-25 14:03:57--  http://www.cs.toronto.edu/~kriz/cifar-10-python.tar.gz\n",
            "Resolving www.cs.toronto.edu (www.cs.toronto.edu)... 128.100.3.30\n",
            "Connecting to www.cs.toronto.edu (www.cs.toronto.edu)|128.100.3.30|:80... connected.\n",
            "HTTP request sent, awaiting response... 200 OK\n",
            "Length: 170498071 (163M) [application/x-gzip]\n",
            "Saving to: ‘cifar-10-python.tar.gz’\n",
            "\n",
            "cifar-10-python.tar 100%[===================>] 162.60M  13.4MB/s    in 14s     \n",
            "\n",
            "2019-11-25 14:04:11 (11.8 MB/s) - ‘cifar-10-python.tar.gz’ saved [170498071/170498071]\n",
            "\n",
            "cifar-10-batches-py/\n",
            "cifar-10-batches-py/data_batch_4\n",
            "cifar-10-batches-py/readme.html\n",
            "cifar-10-batches-py/test_batch\n",
            "cifar-10-batches-py/data_batch_3\n",
            "cifar-10-batches-py/batches.meta\n",
            "cifar-10-batches-py/data_batch_2\n",
            "cifar-10-batches-py/data_batch_5\n",
            "cifar-10-batches-py/data_batch_1\n",
            "/content/cs231n/assignment2\n"
          ],
          "name": "stdout"
        }
      ]
    },
    {
      "cell_type": "code",
      "metadata": {
        "id": "wG_f8m0f4Q86",
        "colab_type": "code",
        "colab": {
          "base_uri": "https://localhost:8080/",
          "height": 68
        },
        "outputId": "f34597f8-9051-427f-9aa7-940901f27c51"
      },
      "source": [
        "import time\n",
        "import numpy as np\n",
        "import matplotlib.pyplot as plt\n",
        "from cs231n.classifiers.fc_net import *\n",
        "from cs231n.data_utils import get_CIFAR10_data\n",
        "from cs231n.gradient_check import eval_numerical_gradient, eval_numerical_gradient_array\n",
        "from cs231n.solver import Solver\n",
        "\n",
        "%matplotlib inline\n",
        "plt.rcParams['figure.figsize'] = (10.0, 8.0) # set default size of plots\n",
        "plt.rcParams['image.interpolation'] = 'nearest'\n",
        "plt.rcParams['image.cmap'] = 'gray'\n",
        "%load_ext autoreload\n",
        "%autoreload 2\n",
        "\n",
        "def rel_error(x, y):\n",
        "  return np.max(np.abs(x - y) / (np.maximum(1e-8, np.abs(x) + np.abs(y))))"
      ],
      "execution_count": 2,
      "outputs": [
        {
          "output_type": "stream",
          "text": [
            "run the following from the cs231n directory and try again:\n",
            "python setup.py build_ext --inplace\n",
            "You may also need to restart your iPython kernel\n"
          ],
          "name": "stdout"
        }
      ]
    },
    {
      "cell_type": "code",
      "metadata": {
        "id": "mQ5MModt4VhK",
        "colab_type": "code",
        "colab": {
          "base_uri": "https://localhost:8080/",
          "height": 119
        },
        "outputId": "2060931d-0643-41b9-e8ff-3ec5bfcf43a5"
      },
      "source": [
        "data = get_CIFAR10_data()\n",
        "for k, v in data.iteritems():\n",
        "  print '%s: ' % k, v.shape"
      ],
      "execution_count": 3,
      "outputs": [
        {
          "output_type": "stream",
          "text": [
            "X_val:  (1000, 3, 32, 32)\n",
            "X_train:  (49000, 3, 32, 32)\n",
            "X_test:  (1000, 3, 32, 32)\n",
            "y_val:  (1000,)\n",
            "y_train:  (49000,)\n",
            "y_test:  (1000,)\n"
          ],
          "name": "stdout"
        }
      ]
    },
    {
      "cell_type": "code",
      "metadata": {
        "id": "qh3iMc9X5-vC",
        "colab_type": "code",
        "colab": {}
      },
      "source": [
        "def dropout_forward(x, dropout_param):\n",
        "  p, mode = dropout_param['p'], dropout_param['mode']\n",
        "  if 'seed' in dropout_param:\n",
        "    np.random.seed(dropout_param['seed'])\n",
        "  mask = None\n",
        "  out = None\n",
        "  if mode == 'train':\n",
        "    mask = np.random.rand(*x.shape) < (1 - p)\n",
        "    mask = mask / (1 - p)\n",
        "    out = mask * x\n",
        "  elif mode == 'test':\n",
        "    out = x\n",
        "  cache = (dropout_param, mask)\n",
        "  out = out.astype(x.dtype, copy=False)\n",
        "  return out, cache"
      ],
      "execution_count": 0,
      "outputs": []
    },
    {
      "cell_type": "code",
      "metadata": {
        "id": "P4mIR5mr-1x1",
        "colab_type": "code",
        "colab": {
          "base_uri": "https://localhost:8080/",
          "height": 374
        },
        "outputId": "ba181d71-3db3-47ef-fce1-f7ae5efdda11"
      },
      "source": [
        "x = np.random.randn(500, 500) + 10\n",
        "for p in [0.3, 0.6, 0.75]:\n",
        "  out, _ = dropout_forward(x, {'mode': 'train', 'p': p})\n",
        "  out_test, _ = dropout_forward(x, {'mode': 'test', 'p': p})\n",
        "\n",
        "  print 'Running tests with p = ', p\n",
        "  print 'Mean of input: ', x.mean()\n",
        "  print 'Mean of train-time output: ', out.mean()\n",
        "  print 'Mean of test-time output: ', out_test.mean()\n",
        "  print 'Fraction of train-time output set to zero: ', (out == 0).mean()\n",
        "  print 'Fraction of test-time output set to zero: ', (out_test == 0).mean()\n",
        "  print"
      ],
      "execution_count": 6,
      "outputs": [
        {
          "output_type": "stream",
          "text": [
            "Running tests with p =  0.3\n",
            "Mean of input:  9.997883976266579\n",
            "Mean of train-time output:  10.011334624712061\n",
            "Mean of test-time output:  9.997883976266579\n",
            "Fraction of train-time output set to zero:  0.29912\n",
            "Fraction of test-time output set to zero:  0.0\n",
            "\n",
            "Running tests with p =  0.6\n",
            "Mean of input:  9.997883976266579\n",
            "Mean of train-time output:  9.967305573694478\n",
            "Mean of test-time output:  9.997883976266579\n",
            "Fraction of train-time output set to zero:  0.601264\n",
            "Fraction of test-time output set to zero:  0.0\n",
            "\n",
            "Running tests with p =  0.75\n",
            "Mean of input:  9.997883976266579\n",
            "Mean of train-time output:  10.050206010534897\n",
            "Mean of test-time output:  9.997883976266579\n",
            "Fraction of train-time output set to zero:  0.748592\n",
            "Fraction of test-time output set to zero:  0.0\n",
            "\n"
          ],
          "name": "stdout"
        }
      ]
    },
    {
      "cell_type": "code",
      "metadata": {
        "id": "NxvHgqOlBDMY",
        "colab_type": "code",
        "colab": {}
      },
      "source": [
        "def dropout_backward(dout, cache):\n",
        "  dropout_param, mask = cache\n",
        "  mode = dropout_param['mode']\n",
        "  dx = None\n",
        "  if mode == 'train':\n",
        "    dx = dout * mask\n",
        "  elif mode == 'test':\n",
        "    dx = dout\n",
        "  return dx"
      ],
      "execution_count": 0,
      "outputs": []
    },
    {
      "cell_type": "code",
      "metadata": {
        "id": "ut2IlLjhB3sD",
        "colab_type": "code",
        "colab": {
          "base_uri": "https://localhost:8080/",
          "height": 34
        },
        "outputId": "07117f3f-77c6-45fc-bc13-fbf55beda3b3"
      },
      "source": [
        "x = np.random.randn(10, 10) + 10\n",
        "dout = np.random.randn(*x.shape)\n",
        "\n",
        "dropout_param = {'mode': 'train', 'p': 0.8, 'seed': 123}\n",
        "out, cache = dropout_forward(x, dropout_param)\n",
        "dx = dropout_backward(dout, cache)\n",
        "dx_num = eval_numerical_gradient_array(lambda xx: dropout_forward(xx, dropout_param)[0], x, dout)\n",
        "\n",
        "print 'dx relative error: ', rel_error(dx, dx_num)"
      ],
      "execution_count": 8,
      "outputs": [
        {
          "output_type": "stream",
          "text": [
            "dx relative error:  1.89290534518624e-11\n"
          ],
          "name": "stdout"
        }
      ]
    },
    {
      "cell_type": "code",
      "metadata": {
        "id": "Q1QLo-OFDOH-",
        "colab_type": "code",
        "colab": {
          "base_uri": "https://localhost:8080/",
          "height": 476
        },
        "outputId": "2be8683e-474e-45b5-f6bb-04f9e45f9d02"
      },
      "source": [
        "N, D, H1, H2, C = 2, 15, 20, 30, 10\n",
        "X = np.random.randn(N, D)\n",
        "y = np.random.randint(C, size=(N,))\n",
        "\n",
        "for dropout in [0, 0.25, 0.5]:\n",
        "  print 'Running check with dropout = ', dropout\n",
        "  model = FullyConnectedNet([H1, H2], input_dim=D, num_classes=C,\n",
        "                            weight_scale=5e-2, dtype=np.float64,\n",
        "                            dropout=dropout, seed=123)\n",
        "\n",
        "  loss, grads = model.loss(X, y)\n",
        "  print 'Initial loss: ', loss\n",
        "\n",
        "  for name in sorted(grads):\n",
        "    f = lambda _: model.loss(X, y)[0]\n",
        "    grad_num = eval_numerical_gradient(f, model.params[name], verbose=False, h=1e-5)\n",
        "    print '%s relative error: %.2e' % (name, rel_error(grad_num, grads[name]))\n",
        "  print"
      ],
      "execution_count": 9,
      "outputs": [
        {
          "output_type": "stream",
          "text": [
            "Running check with dropout =  0\n",
            "Initial loss:  3.4303317343520687\n",
            "W1 relative error: 3.70e-08\n",
            "W2 relative error: 5.44e-08\n",
            "W3 relative error: 6.62e-07\n",
            "b1 relative error: 1.02e-09\n",
            "b2 relative error: 3.55e-10\n",
            "b3 relative error: 3.24e-10\n",
            "\n",
            "Running check with dropout =  0.25\n",
            "Initial loss:  3.2580985481122138\n",
            "W1 relative error: 4.30e-09\n",
            "W2 relative error: 9.65e-09\n",
            "W3 relative error: 2.32e-07\n",
            "b1 relative error: 3.48e-10\n",
            "b2 relative error: 9.60e-11\n",
            "b3 relative error: 1.07e-09\n",
            "\n",
            "Running check with dropout =  0.5\n",
            "Initial loss:  1.8521781787686904\n",
            "W1 relative error: 1.64e-09\n",
            "W2 relative error: 7.47e-10\n",
            "W3 relative error: 2.66e-06\n",
            "b1 relative error: 1.74e-10\n",
            "b2 relative error: 2.74e-10\n",
            "b3 relative error: 2.12e-10\n",
            "\n"
          ],
          "name": "stdout"
        }
      ]
    },
    {
      "cell_type": "code",
      "metadata": {
        "id": "bvPeBqRxDUZ2",
        "colab_type": "code",
        "colab": {
          "base_uri": "https://localhost:8080/",
          "height": 1000
        },
        "outputId": "2ede454d-27d8-4b5e-b5cc-7868aa706227"
      },
      "source": [
        "num_train = 500\n",
        "small_data = {\n",
        "  'X_train': data['X_train'][:num_train],\n",
        "  'y_train': data['y_train'][:num_train],\n",
        "  'X_val': data['X_val'],\n",
        "  'y_val': data['y_val'],\n",
        "}\n",
        "\n",
        "solvers = {}\n",
        "dropout_choices = [0, 0.75]\n",
        "for dropout in dropout_choices:\n",
        "  model = FullyConnectedNet([500], dropout=dropout)\n",
        "  print dropout\n",
        "\n",
        "  solver = Solver(model, small_data,\n",
        "                  num_epochs=25, batch_size=100,\n",
        "                  update_rule='adam',\n",
        "                  optim_config={\n",
        "                    'learning_rate': 5e-4,\n",
        "                  },\n",
        "                  verbose=True, print_every=100)\n",
        "  solver.train()\n",
        "  solvers[dropout] = solver"
      ],
      "execution_count": 10,
      "outputs": [
        {
          "output_type": "stream",
          "text": [
            "0\n",
            "(Iteration 1 / 125) loss: inf\n",
            "(Epoch 0 / 25) train acc: 0.238000; val_acc: 0.175000\n"
          ],
          "name": "stdout"
        },
        {
          "output_type": "stream",
          "text": [
            "cs231n/layers.py:678: RuntimeWarning: divide by zero encountered in log\n",
            "  loss = -np.sum(np.log(probs[np.arange(N), y])) / N\n"
          ],
          "name": "stderr"
        },
        {
          "output_type": "stream",
          "text": [
            "(Epoch 1 / 25) train acc: 0.382000; val_acc: 0.237000\n",
            "(Epoch 2 / 25) train acc: 0.524000; val_acc: 0.287000\n",
            "(Epoch 3 / 25) train acc: 0.606000; val_acc: 0.262000\n",
            "(Epoch 4 / 25) train acc: 0.670000; val_acc: 0.286000\n",
            "(Epoch 5 / 25) train acc: 0.704000; val_acc: 0.266000\n",
            "(Epoch 6 / 25) train acc: 0.794000; val_acc: 0.262000\n",
            "(Epoch 7 / 25) train acc: 0.860000; val_acc: 0.273000\n",
            "(Epoch 8 / 25) train acc: 0.874000; val_acc: 0.294000\n",
            "(Epoch 9 / 25) train acc: 0.906000; val_acc: 0.275000\n",
            "(Epoch 10 / 25) train acc: 0.936000; val_acc: 0.290000\n",
            "(Epoch 11 / 25) train acc: 0.970000; val_acc: 0.289000\n",
            "(Epoch 12 / 25) train acc: 0.950000; val_acc: 0.275000\n",
            "(Epoch 13 / 25) train acc: 0.978000; val_acc: 0.288000\n",
            "(Epoch 14 / 25) train acc: 0.970000; val_acc: 0.284000\n",
            "(Epoch 15 / 25) train acc: 0.978000; val_acc: 0.272000\n",
            "(Epoch 16 / 25) train acc: 0.980000; val_acc: 0.277000\n",
            "(Epoch 17 / 25) train acc: 0.988000; val_acc: 0.283000\n",
            "(Epoch 18 / 25) train acc: 0.998000; val_acc: 0.281000\n",
            "(Epoch 19 / 25) train acc: 0.980000; val_acc: 0.282000\n",
            "(Epoch 20 / 25) train acc: 0.996000; val_acc: 0.277000\n",
            "(Iteration 101 / 125) loss: 0.000000\n",
            "(Epoch 21 / 25) train acc: 0.988000; val_acc: 0.292000\n",
            "(Epoch 22 / 25) train acc: 0.986000; val_acc: 0.297000\n",
            "(Epoch 23 / 25) train acc: 0.996000; val_acc: 0.300000\n",
            "(Epoch 24 / 25) train acc: 0.992000; val_acc: 0.298000\n",
            "(Epoch 25 / 25) train acc: 0.996000; val_acc: 0.301000\n",
            "0.75\n",
            "(Iteration 1 / 125) loss: inf\n",
            "(Epoch 0 / 25) train acc: 0.188000; val_acc: 0.169000\n",
            "(Epoch 1 / 25) train acc: 0.378000; val_acc: 0.216000\n",
            "(Epoch 2 / 25) train acc: 0.450000; val_acc: 0.276000\n",
            "(Epoch 3 / 25) train acc: 0.550000; val_acc: 0.282000\n",
            "(Epoch 4 / 25) train acc: 0.552000; val_acc: 0.292000\n",
            "(Epoch 5 / 25) train acc: 0.562000; val_acc: 0.285000\n",
            "(Epoch 6 / 25) train acc: 0.634000; val_acc: 0.305000\n",
            "(Epoch 7 / 25) train acc: 0.666000; val_acc: 0.299000\n",
            "(Epoch 8 / 25) train acc: 0.744000; val_acc: 0.306000\n",
            "(Epoch 9 / 25) train acc: 0.782000; val_acc: 0.312000\n",
            "(Epoch 10 / 25) train acc: 0.776000; val_acc: 0.321000\n",
            "(Epoch 11 / 25) train acc: 0.804000; val_acc: 0.330000\n",
            "(Epoch 12 / 25) train acc: 0.824000; val_acc: 0.335000\n",
            "(Epoch 13 / 25) train acc: 0.862000; val_acc: 0.340000\n",
            "(Epoch 14 / 25) train acc: 0.850000; val_acc: 0.324000\n",
            "(Epoch 15 / 25) train acc: 0.860000; val_acc: 0.312000\n",
            "(Epoch 16 / 25) train acc: 0.882000; val_acc: 0.325000\n",
            "(Epoch 17 / 25) train acc: 0.892000; val_acc: 0.335000\n",
            "(Epoch 18 / 25) train acc: 0.898000; val_acc: 0.333000\n",
            "(Epoch 19 / 25) train acc: 0.918000; val_acc: 0.333000\n",
            "(Epoch 20 / 25) train acc: 0.926000; val_acc: 0.327000\n",
            "(Iteration 101 / 125) loss: inf\n",
            "(Epoch 21 / 25) train acc: 0.940000; val_acc: 0.319000\n",
            "(Epoch 22 / 25) train acc: 0.948000; val_acc: 0.334000\n",
            "(Epoch 23 / 25) train acc: 0.942000; val_acc: 0.328000\n",
            "(Epoch 24 / 25) train acc: 0.962000; val_acc: 0.331000\n",
            "(Epoch 25 / 25) train acc: 0.966000; val_acc: 0.319000\n"
          ],
          "name": "stdout"
        }
      ]
    },
    {
      "cell_type": "code",
      "metadata": {
        "id": "jeQ3509GDyq1",
        "colab_type": "code",
        "colab": {
          "base_uri": "https://localhost:8080/",
          "height": 606
        },
        "outputId": "a0b5eb45-e27c-440e-9c32-a90541ccdd7d"
      },
      "source": [
        "train_accs = []\n",
        "val_accs = []\n",
        "for dropout in dropout_choices:\n",
        "  solver = solvers[dropout]\n",
        "  train_accs.append(solver.train_acc_history[-1])\n",
        "  val_accs.append(solver.val_acc_history[-1])\n",
        "\n",
        "plt.subplot(3, 1, 1)\n",
        "for dropout in dropout_choices:\n",
        "  plt.plot(solvers[dropout].train_acc_history, 'o', label='%.2f dropout' % dropout)\n",
        "plt.title('Train accuracy')\n",
        "plt.xlabel('Epoch')\n",
        "plt.ylabel('Accuracy')\n",
        "plt.legend(ncol=2, loc='lower right')\n",
        "  \n",
        "plt.subplot(3, 1, 2)\n",
        "for dropout in dropout_choices:\n",
        "  plt.plot(solvers[dropout].val_acc_history, 'o', label='%.2f dropout' % dropout)\n",
        "plt.title('Val accuracy')\n",
        "plt.xlabel('Epoch')\n",
        "plt.ylabel('Accuracy')\n",
        "plt.legend(ncol=2, loc='lower right')\n",
        "\n",
        "plt.gcf().set_size_inches(15, 15)#当前图表\n",
        "plt.show()"
      ],
      "execution_count": 11,
      "outputs": [
        {
          "output_type": "display_data",
          "data": {
            "image/png": "[encoded data removed]",
            "text/plain": [
              "<Figure size 1080x1080 with 2 Axes>"
            ]
          },
          "metadata": {
            "tags": []
          }
        }
      ]
    }
  ]
}